{
 "cells": [
  {
   "cell_type": "code",
   "execution_count": 1,
   "metadata": {},
   "outputs": [],
   "source": [
    "import os\n",
    "import numpy as np\n",
    "from tensorflow.keras.preprocessing import image\n",
    "from tensorflow.keras.models import load_model\n",
    "import cv2\n",
    "\n",
    "# Load the trained model\n",
    "model = load_model('models\\Final_CNN_with25epochs.h5')\n",
    "\n",
    "# Folder containing the input images\n",
    "input_folder = 'Output_frames'\n",
    "\n",
    "# List to store outputs\n",
    "outputs = []"
   ]
  },
  {
   "cell_type": "code",
   "execution_count": 2,
   "metadata": {},
   "outputs": [],
   "source": [
    "import tensorflow as tf"
   ]
  },
  {
   "cell_type": "code",
   "execution_count": 5,
   "metadata": {},
   "outputs": [
    {
     "name": "stdout",
     "output_type": "stream",
     "text": [
      "Filename : \n",
      "IMG-20240319-WA0002.jpg\n",
      "(900, 1600, 3)\n",
      "Faces : [[656 379 316 316]]\n",
      "\n",
      "1/1 [==============================] - 0s 26ms/step\n",
      "[[0.12941767 0.11383781 0.12409376 0.1080412  0.15505257 0.10103357\n",
      "  0.1059204  0.16260298]]\n",
      "Filename : \n",
      "IMG-20240319-WA0003.jpg\n",
      "(900, 1600, 3)\n",
      "Faces : [[659 375 325 325]]\n",
      "\n",
      "1/1 [==============================] - 0s 23ms/step\n",
      "[[0.12941767 0.11383781 0.12409376 0.1080412  0.15505257 0.10103357\n",
      "  0.1059204  0.16260298]]\n",
      "Filename : \n",
      "IMG-20240319-WA0004.jpg\n",
      "(900, 1600, 3)\n",
      "Faces : [[661 372 331 331]]\n",
      "\n",
      "1/1 [==============================] - 0s 26ms/step\n",
      "[[0.12941767 0.11383781 0.12409376 0.1080412  0.15505257 0.10103357\n",
      "  0.1059204  0.16260298]]\n",
      "Filename : \n",
      "IMG-20240319-WA0005.jpg\n",
      "(900, 1600, 3)\n",
      "Faces : [[664 377 323 323]]\n",
      "\n",
      "1/1 [==============================] - 0s 23ms/step\n",
      "[[0.12941767 0.11383781 0.12409376 0.1080412  0.15505257 0.10103357\n",
      "  0.1059204  0.16260298]]\n",
      "Filename : \n",
      "IMG-20240319-WA0006.jpg\n",
      "(900, 1600, 3)\n",
      "Faces : [[667 377 323 323]]\n",
      "\n",
      "1/1 [==============================] - 0s 24ms/step\n",
      "[[0.12941767 0.11383781 0.12409376 0.1080412  0.15505257 0.10103357\n",
      "  0.1059204  0.16260298]]\n"
     ]
    }
   ],
   "source": [
    "# Loop through each image in the folder\n",
    "for filename in os.listdir(input_folder):\n",
    "    # Skip non-image files\n",
    "    print(\"Filename : \")\n",
    "    print(filename)\n",
    "    if not filename.endswith('.jpg'):\n",
    "        continue\n",
    "\n",
    "\n",
    "    img=cv2.imread(input_folder+\"/\"+filename)\n",
    "    print(img.shape)\n",
    "\n",
    "    #Detecting only the face part\n",
    "    clf = cv2.CascadeClassifier('haarcascade_frontalface_default.xml')\n",
    "    #faces contains coordinates of the face\n",
    "    faces = clf.detectMultiScale(img,scaleFactor =1.1,minNeighbors=5,minSize=(96,96),flags=cv2.CASCADE_SCALE_IMAGE)\n",
    "    print(f'Faces : {faces}\\n')\n",
    "\n",
    "    # for(x,y,width,height) in faces:\n",
    "    #     temp=cv2.rectangle(img,(x,y),(x+width,y+height),(255,255,0),2)\n",
    "\n",
    "    input_image = cv2.cvtColor(img[faces[0][1]:(faces[0][1]+faces[0][3]),faces[0][0]:(faces[0][0]+faces[0][3])],cv2.COLOR_BGR2RGB)\n",
    "\n",
    "    resize = tf.image.resize(input_image, (96,96))\n",
    "    resize=resize/255\n",
    "    img = np.expand_dims(resize, axis=0)\n",
    "\n",
    "\n",
    "    # Predict using the model\n",
    "    # print(img)\n",
    "    output = model.predict(img)\n",
    "    print(output)\n",
    "\n",
    "    # Append the output to the list\n",
    "    outputs.append(output)\n",
    "\n",
    "\n"
   ]
  },
  {
   "cell_type": "code",
   "execution_count": 47,
   "metadata": {},
   "outputs": [
    {
     "name": "stdout",
     "output_type": "stream",
     "text": [
      "Final score: 4.999999523162842\n"
     ]
    }
   ],
   "source": [
    "# Convert the list of outputs to a numpy array\n",
    "result = np.array(outputs)\n",
    "\n",
    "# Sum up all the values\n",
    "final_score = np.sum(result)\n",
    "\n",
    "print(f\"Final score: {final_score}\")"
   ]
  },
  {
   "cell_type": "code",
   "execution_count": 48,
   "metadata": {},
   "outputs": [
    {
     "data": {
      "text/plain": [
       "5"
      ]
     },
     "execution_count": 48,
     "metadata": {},
     "output_type": "execute_result"
    }
   ],
   "source": [
    "len(result)"
   ]
  },
  {
   "cell_type": "code",
   "execution_count": 49,
   "metadata": {},
   "outputs": [
    {
     "name": "stdout",
     "output_type": "stream",
     "text": [
      "[[0.12941767 0.11383781 0.12409376 0.1080412  0.15505257 0.10103357\n",
      "  0.1059204  0.16260298]]\n",
      "[[0.12941767 0.11383781 0.12409376 0.1080412  0.15505257 0.10103357\n",
      "  0.1059204  0.16260298]]\n",
      "[[0.12941767 0.11383781 0.12409376 0.1080412  0.15505257 0.10103357\n",
      "  0.1059204  0.16260298]]\n",
      "[[0.12941767 0.11383781 0.12409376 0.1080412  0.15505257 0.10103357\n",
      "  0.1059204  0.16260298]]\n",
      "[[0.12941767 0.11383781 0.12409376 0.1080412  0.15505257 0.10103357\n",
      "  0.1059204  0.16260298]]\n",
      "0.4753904417157173\n",
      "The preson is stressed\n"
     ]
    }
   ],
   "source": [
    "sum=0\n",
    "for elements in result:\n",
    "    print(elements)\n",
    "    for i in range(0,4):\n",
    "        sum+=elements[0][i]\n",
    "    #sum+=elements[0][7]\n",
    "print(sum/len(result))\n",
    "\n",
    "\n",
    "if sum <= 0.5:\n",
    "    print(\"The person is not stressed\")\n",
    "else:\n",
    "    print(\"The preson is stressed\")"
   ]
  },
  {
   "cell_type": "code",
   "execution_count": 50,
   "metadata": {},
   "outputs": [
    {
     "data": {
      "text/plain": [
       "array([[[0.12941767, 0.11383781, 0.12409376, 0.1080412 , 0.15505257,\n",
       "         0.10103357, 0.1059204 , 0.16260298]],\n",
       "\n",
       "       [[0.12941767, 0.11383781, 0.12409376, 0.1080412 , 0.15505257,\n",
       "         0.10103357, 0.1059204 , 0.16260298]],\n",
       "\n",
       "       [[0.12941767, 0.11383781, 0.12409376, 0.1080412 , 0.15505257,\n",
       "         0.10103357, 0.1059204 , 0.16260298]],\n",
       "\n",
       "       [[0.12941767, 0.11383781, 0.12409376, 0.1080412 , 0.15505257,\n",
       "         0.10103357, 0.1059204 , 0.16260298]],\n",
       "\n",
       "       [[0.12941767, 0.11383781, 0.12409376, 0.1080412 , 0.15505257,\n",
       "         0.10103357, 0.1059204 , 0.16260298]]], dtype=float32)"
      ]
     },
     "execution_count": 50,
     "metadata": {},
     "output_type": "execute_result"
    }
   ],
   "source": [
    "result"
   ]
  },
  {
   "cell_type": "code",
   "execution_count": 51,
   "metadata": {},
   "outputs": [
    {
     "data": {
      "text/plain": [
       "array([[0.12941767, 0.11383781, 0.12409376, 0.1080412 , 0.15505257,\n",
       "        0.10103357, 0.1059204 , 0.16260298]], dtype=float32)"
      ]
     },
     "execution_count": 51,
     "metadata": {},
     "output_type": "execute_result"
    }
   ],
   "source": [
    "elements"
   ]
  },
  {
   "cell_type": "code",
   "execution_count": 52,
   "metadata": {},
   "outputs": [
    {
     "data": {
      "text/plain": [
       "[array([[0.12941767, 0.11383781, 0.12409376, 0.1080412 , 0.15505257,\n",
       "         0.10103357, 0.1059204 , 0.16260298]], dtype=float32),\n",
       " array([[0.12941767, 0.11383781, 0.12409376, 0.1080412 , 0.15505257,\n",
       "         0.10103357, 0.1059204 , 0.16260298]], dtype=float32),\n",
       " array([[0.12941767, 0.11383781, 0.12409376, 0.1080412 , 0.15505257,\n",
       "         0.10103357, 0.1059204 , 0.16260298]], dtype=float32),\n",
       " array([[0.12941767, 0.11383781, 0.12409376, 0.1080412 , 0.15505257,\n",
       "         0.10103357, 0.1059204 , 0.16260298]], dtype=float32),\n",
       " array([[0.12941767, 0.11383781, 0.12409376, 0.1080412 , 0.15505257,\n",
       "         0.10103357, 0.1059204 , 0.16260298]], dtype=float32)]"
      ]
     },
     "execution_count": 52,
     "metadata": {},
     "output_type": "execute_result"
    }
   ],
   "source": [
    "outputs"
   ]
  }
 ],
 "metadata": {
  "kernelspec": {
   "display_name": "Python 3",
   "language": "python",
   "name": "python3"
  },
  "language_info": {
   "codemirror_mode": {
    "name": "ipython",
    "version": 3
   },
   "file_extension": ".py",
   "mimetype": "text/x-python",
   "name": "python",
   "nbconvert_exporter": "python",
   "pygments_lexer": "ipython3",
   "version": "3.11.7"
  }
 },
 "nbformat": 4,
 "nbformat_minor": 2
}
