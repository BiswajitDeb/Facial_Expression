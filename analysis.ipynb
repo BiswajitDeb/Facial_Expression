{
 "cells": [
  {
   "cell_type": "code",
   "execution_count": 23,
   "metadata": {},
   "outputs": [],
   "source": [
    "import os\n",
    "import numpy as np\n",
    "from tensorflow.keras.preprocessing import image\n",
    "from tensorflow.keras.models import load_model\n",
    "import cv2\n",
    "\n",
    "# Load the trained model\n",
    "model = load_model('models\\Final_CNN_with25epochs.h5')\n",
    "\n",
    "# Folder containing the input images\n",
    "input_folder = 'Output_frames'\n",
    "\n",
    "# List to store outputs\n",
    "outputs = []"
   ]
  },
  {
   "cell_type": "code",
   "execution_count": 24,
   "metadata": {},
   "outputs": [],
   "source": [
    "import tensorflow as tf"
   ]
  },
  {
   "cell_type": "code",
   "execution_count": 25,
   "metadata": {},
   "outputs": [
    {
     "name": "stdout",
     "output_type": "stream",
     "text": [
      "Faces : [[175 128 320 320]]\n",
      "\n",
      "1/1 [==============================] - 0s 72ms/step\n",
      "Faces : [[219  84 218 218]]\n",
      "\n",
      "1/1 [==============================] - 0s 23ms/step\n",
      "Faces : [[219  52 190 190]]\n",
      "\n",
      "1/1 [==============================] - 0s 23ms/step\n",
      "Faces : [[242 150 182 182]]\n",
      "\n",
      "1/1 [==============================] - 0s 21ms/step\n"
     ]
    }
   ],
   "source": [
    "# Loop through each image in the folder\n",
    "for filename in os.listdir(input_folder):\n",
    "    # Skip non-image files\n",
    "    if not filename.endswith('.jpg'):\n",
    "        continue\n",
    "\n",
    "\n",
    "    img=cv2.imread(input_folder+\"/\"+filename)\n",
    "    \n",
    "\n",
    "    #Detecting only the face part\n",
    "    clf = cv2.CascadeClassifier('haarcascade_frontalface_default.xml')\n",
    "    #faces contains coordinates of the face\n",
    "    faces = clf.detectMultiScale(img,scaleFactor =1.1,minNeighbors=5,minSize=(96,96),flags=cv2.CASCADE_SCALE_IMAGE)\n",
    "    print(f'Faces : {faces}\\n')\n",
    "\n",
    "    for(x,y,width,height) in faces:\n",
    "        temp=cv2.rectangle(img,(x,y),(x+width,y+height),(255,255,0),2)\n",
    "\n",
    "    input_image = cv2.cvtColor(img[faces[0][1]:(faces[0][1]+faces[0][3]),faces[0][0]:(faces[0][0]+faces[0][3])],cv2.COLOR_BGR2RGB)\n",
    "\n",
    "    resize = tf.image.resize(input_image, (96,96))\n",
    "    resize=resize/255\n",
    "    img = np.expand_dims(resize, axis=0)\n",
    "\n",
    "\n",
    "    # Predict using the model\n",
    "    output = model.predict(img)\n",
    "\n",
    "    # Append the output to the list\n",
    "    outputs.append(output)\n",
    "\n",
    "\n"
   ]
  },
  {
   "cell_type": "code",
   "execution_count": 26,
   "metadata": {},
   "outputs": [
    {
     "name": "stdout",
     "output_type": "stream",
     "text": [
      "Final score: 3.999999761581421\n"
     ]
    }
   ],
   "source": [
    "# Convert the list of outputs to a numpy array\n",
    "result = np.array(outputs)\n",
    "\n",
    "# Sum up all the values\n",
    "final_score = np.sum(result)\n",
    "\n",
    "print(f\"Final score: {final_score}\")"
   ]
  },
  {
   "cell_type": "code",
   "execution_count": 27,
   "metadata": {},
   "outputs": [
    {
     "data": {
      "text/plain": [
       "4"
      ]
     },
     "execution_count": 27,
     "metadata": {},
     "output_type": "execute_result"
    }
   ],
   "source": [
    "len(result)"
   ]
  },
  {
   "cell_type": "code",
   "execution_count": 28,
   "metadata": {},
   "outputs": [
    {
     "name": "stdout",
     "output_type": "stream",
     "text": [
      "0.6379934176802635\n",
      "The preson is stressed\n"
     ]
    }
   ],
   "source": [
    "sum=0\n",
    "for elements in result:\n",
    "    for i in range(0,4):\n",
    "        sum+=elements[0][i]\n",
    "    sum+=elements[0][7]\n",
    "print(sum/len(result))\n",
    "\n",
    "\n",
    "if sum <= 0.5:\n",
    "    print(\"The person is not stressed\")\n",
    "else:\n",
    "    print(\"The preson is stressed\")"
   ]
  }
 ],
 "metadata": {
  "kernelspec": {
   "display_name": "Python 3",
   "language": "python",
   "name": "python3"
  },
  "language_info": {
   "codemirror_mode": {
    "name": "ipython",
    "version": 3
   },
   "file_extension": ".py",
   "mimetype": "text/x-python",
   "name": "python",
   "nbconvert_exporter": "python",
   "pygments_lexer": "ipython3",
   "version": "3.11.7"
  }
 },
 "nbformat": 4,
 "nbformat_minor": 2
}
