{
 "cells": [
  {
   "cell_type": "code",
   "execution_count": 8,
   "metadata": {},
   "outputs": [],
   "source": [
    "import os\n",
    "import numpy as np\n",
    "from tensorflow.keras.preprocessing import image\n",
    "from tensorflow.keras.models import load_model\n",
    "import cv2\n",
    "\n",
    "# Load the trained model\n",
    "model = load_model('models\\Final_CNN_with25epochs.h5')\n",
    "\n",
    "# Folder containing the input images\n",
    "input_folder = 'Output_frames'\n",
    "\n",
    "# List to store outputs\n",
    "outputs = []"
   ]
  },
  {
   "cell_type": "code",
   "execution_count": 9,
   "metadata": {},
   "outputs": [],
   "source": [
    "import tensorflow as tf"
   ]
  },
  {
   "cell_type": "code",
   "execution_count": 11,
   "metadata": {},
   "outputs": [
    {
     "name": "stdout",
     "output_type": "stream",
     "text": [
      "Faces : ()\n",
      "\n"
     ]
    },
    {
     "ename": "IndexError",
     "evalue": "tuple index out of range",
     "output_type": "error",
     "traceback": [
      "\u001b[1;31m---------------------------------------------------------------------------\u001b[0m",
      "\u001b[1;31mIndexError\u001b[0m                                Traceback (most recent call last)",
      "Cell \u001b[1;32mIn[11], line 20\u001b[0m\n\u001b[0;32m     17\u001b[0m \u001b[38;5;28;01mfor\u001b[39;00m(x,y,width,height) \u001b[38;5;129;01min\u001b[39;00m faces:\n\u001b[0;32m     18\u001b[0m     temp\u001b[38;5;241m=\u001b[39mcv2\u001b[38;5;241m.\u001b[39mrectangle(img,(x,y),(x\u001b[38;5;241m+\u001b[39mwidth,y\u001b[38;5;241m+\u001b[39mheight),(\u001b[38;5;241m255\u001b[39m,\u001b[38;5;241m255\u001b[39m,\u001b[38;5;241m0\u001b[39m),\u001b[38;5;241m2\u001b[39m)\n\u001b[1;32m---> 20\u001b[0m input_image \u001b[38;5;241m=\u001b[39m cv2\u001b[38;5;241m.\u001b[39mcvtColor(img[\u001b[43mfaces\u001b[49m\u001b[43m[\u001b[49m\u001b[38;5;241;43m0\u001b[39;49m\u001b[43m]\u001b[49m[\u001b[38;5;241m1\u001b[39m]:(faces[\u001b[38;5;241m0\u001b[39m][\u001b[38;5;241m1\u001b[39m]\u001b[38;5;241m+\u001b[39mfaces[\u001b[38;5;241m0\u001b[39m][\u001b[38;5;241m3\u001b[39m]),faces[\u001b[38;5;241m0\u001b[39m][\u001b[38;5;241m0\u001b[39m]:(faces[\u001b[38;5;241m0\u001b[39m][\u001b[38;5;241m0\u001b[39m]\u001b[38;5;241m+\u001b[39mfaces[\u001b[38;5;241m0\u001b[39m][\u001b[38;5;241m3\u001b[39m])],cv2\u001b[38;5;241m.\u001b[39mCOLOR_BGR2RGB)\n\u001b[0;32m     22\u001b[0m resize \u001b[38;5;241m=\u001b[39m tf\u001b[38;5;241m.\u001b[39mimage\u001b[38;5;241m.\u001b[39mresize(input_image, (\u001b[38;5;241m96\u001b[39m,\u001b[38;5;241m96\u001b[39m))\n\u001b[0;32m     23\u001b[0m resize\u001b[38;5;241m=\u001b[39mresize\u001b[38;5;241m/\u001b[39m\u001b[38;5;241m255\u001b[39m\n",
      "\u001b[1;31mIndexError\u001b[0m: tuple index out of range"
     ]
    }
   ],
   "source": [
    "# Loop through each image in the folder\n",
    "for filename in os.listdir(input_folder):\n",
    "    # Skip non-image files\n",
    "    if not filename.endswith('.jpg'):\n",
    "        continue\n",
    "\n",
    "\n",
    "    img=cv2.imread(input_folder+\"/\"+filename)\n",
    "    \n",
    "\n",
    "    #Detecting only the face part\n",
    "    clf = cv2.CascadeClassifier('haarcascade_frontalface_default.xml')\n",
    "    #faces contains coordinates of the face\n",
    "    faces = clf.detectMultiScale(img,scaleFactor =1.1,minNeighbors=5,minSize=(96,96),flags=cv2.CASCADE_SCALE_IMAGE)\n",
    "    print(f'Faces : {faces}\\n')\n",
    "\n",
    "    for(x,y,width,height) in faces:\n",
    "        temp=cv2.rectangle(img,(x,y),(x+width,y+height),(255,255,0),2)\n",
    "\n",
    "    input_image = cv2.cvtColor(img[faces[0][1]:(faces[0][1]+faces[0][3]),faces[0][0]:(faces[0][0]+faces[0][3])],cv2.COLOR_BGR2RGB)\n",
    "\n",
    "    resize = tf.image.resize(input_image, (96,96))\n",
    "    resize=resize/255\n",
    "    img = np.expand_dims(resize, axis=0)\n",
    "\n",
    "\n",
    "    # Predict using the model\n",
    "    output = model.predict(img)\n",
    "\n",
    "    # Append the output to the list\n",
    "    outputs.append(output)\n",
    "\n",
    "\n"
   ]
  },
  {
   "cell_type": "code",
   "execution_count": null,
   "metadata": {},
   "outputs": [],
   "source": [
    "# Convert the list of outputs to a numpy array\n",
    "outputs = np.array(outputs)\n",
    "\n",
    "# Sum up all the values\n",
    "final_score = np.sum(outputs)\n",
    "\n",
    "print(f\"Final score: {final_score}\")"
   ]
  }
 ],
 "metadata": {
  "kernelspec": {
   "display_name": "Python 3",
   "language": "python",
   "name": "python3"
  },
  "language_info": {
   "codemirror_mode": {
    "name": "ipython",
    "version": 3
   },
   "file_extension": ".py",
   "mimetype": "text/x-python",
   "name": "python",
   "nbconvert_exporter": "python",
   "pygments_lexer": "ipython3",
   "version": "3.11.7"
  }
 },
 "nbformat": 4,
 "nbformat_minor": 2
}
