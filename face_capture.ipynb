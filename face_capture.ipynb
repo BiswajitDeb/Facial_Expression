{
 "cells": [
  {
   "cell_type": "code",
   "execution_count": 1,
   "metadata": {},
   "outputs": [],
   "source": [
    "import cv2\n",
    "import os\n",
    "\n",
    "# Create a directory for the output frames\n",
    "output_dir = 'Output_frames'\n",
    "os.makedirs(output_dir, exist_ok=True)"
   ]
  },
  {
   "cell_type": "code",
   "execution_count": 2,
   "metadata": {},
   "outputs": [],
   "source": [
    "# Initialize the webcam\n",
    "cap = cv2.VideoCapture(0)\n",
    "\n",
    "# Set the frame rate\n",
    "frame_rate = 1\n",
    "\n",
    "# Initialize a counter for the frames\n",
    "frame_count = 0"
   ]
  },
  {
   "cell_type": "code",
   "execution_count": 3,
   "metadata": {},
   "outputs": [],
   "source": [
    "\n",
    "\n",
    "# Loop to capture and save frames\n",
    "while True:\n",
    "    # Capture frame-by-frame\n",
    "    ret, frame = cap.read()\n",
    "\n",
    "    # If the frame is captured successfully\n",
    "    if ret:\n",
    "        # Increment the frame count\n",
    "        frame_count += 1\n",
    "\n",
    "        # Save the frame to the output directory\n",
    "        output_path = os.path.join(output_dir, f'frame_{frame_count}.jpg')\n",
    "        cv2.imwrite(output_path, frame)\n",
    "\n",
    "        # Display the frame\n",
    "        cv2.imshow('Frame', frame)\n",
    "\n",
    "        # If the user presses the tilde key (`), break the loop\n",
    "        if cv2.waitKey(1) == ord('`'):\n",
    "            break\n",
    "\n",
    "    # Delay to control the frame rate\n",
    "    cv2.waitKey(int(1000 / frame_rate))\n"
   ]
  },
  {
   "cell_type": "code",
   "execution_count": 4,
   "metadata": {},
   "outputs": [],
   "source": [
    "# Release the webcam and close the OpenCV windows\n",
    "cap.release()\n",
    "cv2.destroyAllWindows()\n"
   ]
  }
 ],
 "metadata": {
  "kernelspec": {
   "display_name": "Python 3",
   "language": "python",
   "name": "python3"
  },
  "language_info": {
   "codemirror_mode": {
    "name": "ipython",
    "version": 3
   },
   "file_extension": ".py",
   "mimetype": "text/x-python",
   "name": "python",
   "nbconvert_exporter": "python",
   "pygments_lexer": "ipython3",
   "version": "3.11.7"
  }
 },
 "nbformat": 4,
 "nbformat_minor": 2
}
