{
 "cells": [
  {
   "cell_type": "code",
   "execution_count": null,
   "metadata": {},
   "outputs": [],
   "source": [
    "import tensorflow as tf\n",
    "import os\n",
    "\n",
    "import numpy as numpy\n",
    "from matplotlib import pyplot as plt\n",
    "\n",
    "import cv2\n",
    "import imghdr"
   ]
  },
  {
   "cell_type": "markdown",
   "metadata": {},
   "source": [
    "Remove dodgy images"
   ]
  },
  {
   "cell_type": "code",
   "execution_count": null,
   "metadata": {},
   "outputs": [],
   "source": [
    "# data_dir = 'data' \n",
    "# image_exts = ['jpeg','jpg', 'bmp', 'png']"
   ]
  },
  {
   "cell_type": "code",
   "execution_count": null,
   "metadata": {},
   "outputs": [],
   "source": [
    "# for image_class in os.listdir(data_dir): \n",
    "#     for image in os.listdir(os.path.join(data_dir, image_class)):\n",
    "#         image_path = os.path.join(data_dir, image_class, image)\n",
    "#         try: \n",
    "#             img = cv2.imread(image_path)\n",
    "#             tip = imghdr.what(image_path)\n",
    "#             if tip not in image_exts: \n",
    "#                 print('Image not in ext list {}'.format(image_path))\n",
    "#                 os.remove(image_path)\n",
    "#         except Exception as e: \n",
    "#             print('Issue with image {}'.format(image_path))\n",
    "            # os.remove(image_path)"
   ]
  },
  {
   "cell_type": "markdown",
   "metadata": {},
   "source": [
    "Load Data"
   ]
  },
  {
   "cell_type": "code",
   "execution_count": null,
   "metadata": {},
   "outputs": [],
   "source": [
    "import numpy as numpy\n",
    "from matplotlib import pyplot as plt\n",
    "\n",
    "import cv2\n",
    "import imghdr"
   ]
  },
  {
   "cell_type": "code",
   "execution_count": null,
   "metadata": {},
   "outputs": [],
   "source": [
    "#Builiding data pipeline\n",
    "data = tf.keras.utils.image_dataset_from_directory('Affectnet Dataset')\n",
    "#still not a dataset, instead it's a generator"
   ]
  },
  {
   "cell_type": "code",
   "execution_count": null,
   "metadata": {},
   "outputs": [],
   "source": [
    "#Allows to loop through data pipeline\n",
    "data_iterator = data.as_numpy_iterator()\n",
    "data_iterator"
   ]
  },
  {
   "cell_type": "code",
   "execution_count": null,
   "metadata": {},
   "outputs": [],
   "source": [
    "batch = data_iterator.next()\n",
    "#Images classified from 0-7\n",
    "batch[1]"
   ]
  }
 ],
 "metadata": {
  "kernelspec": {
   "display_name": "Python 3",
   "language": "python",
   "name": "python3"
  },
  "language_info": {
   "codemirror_mode": {
    "name": "ipython",
    "version": 3
   },
   "file_extension": ".py",
   "mimetype": "text/x-python",
   "name": "python",
   "nbconvert_exporter": "python",
   "pygments_lexer": "ipython3",
   "version": "3.11.7"
  }
 },
 "nbformat": 4,
 "nbformat_minor": 2
}
